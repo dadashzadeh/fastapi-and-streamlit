{
  "nbformat": 4,
  "nbformat_minor": 0,
  "metadata": {
    "colab": {
      "provenance": [],
      "gpuType": "T4",
      "authorship_tag": "ABX9TyNReI807fqHXayJcJhUolM+",
      "include_colab_link": true
    },
    "kernelspec": {
      "name": "python3",
      "display_name": "Python 3"
    },
    "language_info": {
      "name": "python"
    },
    "accelerator": "GPU"
  },
  "cells": [
    {
      "cell_type": "markdown",
      "metadata": {
        "id": "view-in-github",
        "colab_type": "text"
      },
      "source": [
        "<a href=\"https://colab.research.google.com/github/dadashzadeh/fastapi-and-streamlit/blob/main/colab.ipynb\" target=\"_parent\"><img src=\"https://colab.research.google.com/assets/colab-badge.svg\" alt=\"Open In Colab\"/></a>"
      ]
    },
    {
      "cell_type": "markdown",
      "source": [
        "pyngrok"
      ],
      "metadata": {
        "id": "V62d1Y011FTa"
      }
    },
    {
      "cell_type": "markdown",
      "source": [
        "https://docs.streamlit.io/"
      ],
      "metadata": {
        "id": "_t2iPQZ06Bc2"
      }
    },
    {
      "cell_type": "code",
      "source": [
        "!pip install streamlit\n",
        "!pip install pyngrok\n"
      ],
      "metadata": {
        "id": "HXM-w1Nxb_t3"
      },
      "execution_count": null,
      "outputs": []
    },
    {
      "cell_type": "code",
      "source": [
        "with open('app.py', 'w' , encoding='utf-8') as f:\n",
        "    f.write('''\n",
        "# Importing necessary libraries\n",
        "import streamlit as st\n",
        "import pandas as pd\n",
        "import numpy as np\n",
        "import requests\n",
        "from bs4 import BeautifulSoup\n",
        "\n",
        "# Setting the title of the page\n",
        "st.title('عنوان')\n",
        "\n",
        "# Creating a dataframe with random values\n",
        "df = pd.DataFrame(\n",
        "    np.random.randn(50, 20),\n",
        "    columns=('col %d' % i for i in range(20)))\n",
        "\n",
        "# Taking input from user\n",
        "url = st.text_input('url')\n",
        "\n",
        "try:\n",
        "    # Creating a header for the request\n",
        "    header = {'user-agent': 'Mozilla/5.0 AppleWebKit/537.36 (KHTML, like Gecko; compatible; Googlebot/2.1; +http://www.google.com/bot.html) Safari/537.36',\n",
        "              'Referer': 'https://google.com/'}\n",
        "    response = requests.get(url, headers=header)\n",
        "    soup = BeautifulSoup(response.content, 'lxml')\n",
        "    h1 = soup.find('h1')\n",
        "    # Displaying the text of the h1 tag\n",
        "    st.info(h1.text)\n",
        "except:\n",
        "    # Displaying an error message if the link is not valid\n",
        "    st.info(\"Please write the link\")\n",
        "\n",
        "# Displaying the dataframe and line chart\n",
        "st.dataframe(df)  # Same as st.write(df)\n",
        "st.line_chart(df)\n",
        "st.balloons()\n",
        "''')\n"
      ],
      "metadata": {
        "id": "Qx7MMuSl_wtI"
      },
      "execution_count": null,
      "outputs": []
    },
    {
      "cell_type": "code",
      "source": [
        "# Import the ngrok library\n",
        "from pyngrok import ngrok\n",
        "\n",
        "# Authorize ngrok with your authtoken\n",
        "!ngrok authtoken ##### apikey ####\n",
        "\n",
        "# Start the streamlit app in background mode on port 80, suppressing output\n",
        "!nohup streamlit run app.py --server.port 80 &\n",
        "\n",
        "# Establish an HTTP tunnel connection on port 80 and save it to a variable\n",
        "http_tunnel = ngrok.connect(80, \"http\")\n",
        "\n",
        "# Print out the public URL for the tunnel connection\n",
        "print(\"Public URL:\", http_tunnel.public_url)"
      ],
      "metadata": {
        "colab": {
          "base_uri": "https://localhost:8080/"
        },
        "id": "FPI6ze65e4Jf",
        "outputId": "4ec25717-0ef5-4c5e-cdb2-b30d4ba092bd"
      },
      "execution_count": null,
      "outputs": [
        {
          "output_type": "stream",
          "name": "stdout",
          "text": [
            "Authtoken saved to configuration file: /root/.ngrok2/ngrok.yml\n",
            "nohup: appending output to 'nohup.out'\n"
          ]
        },
        {
          "output_type": "stream",
          "name": "stderr",
          "text": [
            "WARNING:pyngrok.process.ngrok:t=2023-06-18T17:18:06+0000 lvl=warn msg=\"ngrok config file found at legacy location, move to XDG location\" xdg_path=/root/.config/ngrok/ngrok.yml legacy_path=/root/.ngrok2/ngrok.yml\n"
          ]
        },
        {
          "output_type": "stream",
          "name": "stdout",
          "text": [
            "Public URL: https://2c1c-35-243-198-153.ngrok-free.app\n"
          ]
        }
      ]
    },
    {
      "cell_type": "markdown",
      "source": [
        "gradio"
      ],
      "metadata": {
        "id": "7-yDbpWb1GzS"
      }
    },
    {
      "cell_type": "markdown",
      "source": [
        "https://gradio.app/demos/"
      ],
      "metadata": {
        "id": "3rjM-3A35_qG"
      }
    },
    {
      "cell_type": "code",
      "source": [
        "!pip install gradio\n"
      ],
      "metadata": {
        "id": "1GVJewSP1Hza"
      },
      "execution_count": null,
      "outputs": []
    },
    {
      "cell_type": "code",
      "source": [
        "import gradio as gr\n",
        "\n",
        "def greet(name):\n",
        "    return \"Hello \" + name + \"!\"\n",
        "\n",
        "demo = gr.Interface(fn=greet, inputs=\"text\", outputs=\"text\")\n",
        "\n",
        "if __name__ == \"__main__\":\n",
        "    demo.launch()"
      ],
      "metadata": {
        "id": "eWFNAQGr1EGa"
      },
      "execution_count": null,
      "outputs": []
    }
  ]
}